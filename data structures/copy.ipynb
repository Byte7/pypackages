{
 "cells": [
  {
   "cell_type": "markdown",
   "metadata": {},
   "source": [
    "## Copy makes it easy to make duplicates of existing objects. Provides functions for making shallow and deep copies of an object."
   ]
  },
  {
   "cell_type": "markdown",
   "metadata": {},
   "source": [
    "### Shallow copy - A new container populated with references to the contents of the original object\n",
    "### Deep copy - A new container populated with copies of the contents of the original object"
   ]
  },
  {
   "cell_type": "code",
   "execution_count": 1,
   "metadata": {},
   "outputs": [
    {
     "name": "stdout",
     "output_type": "stream",
     "text": [
      "[0, 1, 2, 3, 4, 5, 6, 7, 8, 9] "
     ]
    }
   ],
   "source": [
    "import copy\n",
    "\n",
    "\n",
    "original_list = [int(x) for x in range(10)]\n",
    "print(original_list, end = ' ')"
   ]
  },
  {
   "cell_type": "code",
   "execution_count": 2,
   "metadata": {},
   "outputs": [
    {
     "name": "stdout",
     "output_type": "stream",
     "text": [
      "[0, 1, 2, 3, 4, 5, 6, 7, 8, 9] "
     ]
    }
   ],
   "source": [
    "# the reference in shallow_list is to the same object in original_list\n",
    "\n",
    "shallow_list = copy.copy(original_list)\n",
    "print(shallow_list, end = ' ')"
   ]
  },
  {
   "cell_type": "code",
   "execution_count": 3,
   "metadata": {},
   "outputs": [
    {
     "name": "stdout",
     "output_type": "stream",
     "text": [
      "original_list: [0, 1, 2, 3, 4, 5, 6, 7, 8, 9]\n",
      "shallow_list: [0, 1, 2, 3, 4, 5, 6, 7, 8, 9]\n",
      "shallow_list is original_list: False\n",
      "shallow_list == original_list: True\n",
      "shallow_list[0] is original_list[0]: True\n",
      "shallow_list[0] == original_list[0]: True\n"
     ]
    }
   ],
   "source": [
    "print('original_list:', original_list)\n",
    "print('shallow_list:', shallow_list)\n",
    "print('shallow_list is original_list:', (shallow_list is original_list))\n",
    "print('shallow_list == original_list:', (shallow_list == original_list))\n",
    "print('shallow_list[0] is original_list[0]:', (shallow_list[0] is original_list[0]))\n",
    "print('shallow_list[0] == original_list[0]:', (shallow_list[0] == original_list[0]))"
   ]
  },
  {
   "cell_type": "code",
   "execution_count": null,
   "metadata": {},
   "outputs": [],
   "source": []
  }
 ],
 "metadata": {
  "kernelspec": {
   "display_name": "Python 3",
   "language": "python",
   "name": "python3"
  },
  "language_info": {
   "codemirror_mode": {
    "name": "ipython",
    "version": 3
   },
   "file_extension": ".py",
   "mimetype": "text/x-python",
   "name": "python",
   "nbconvert_exporter": "python",
   "pygments_lexer": "ipython3",
   "version": "3.6.2"
  }
 },
 "nbformat": 4,
 "nbformat_minor": 2
}
