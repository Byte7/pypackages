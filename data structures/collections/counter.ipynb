{
 "cells": [
  {
   "cell_type": "code",
   "execution_count": 2,
   "metadata": {},
   "outputs": [
    {
     "name": "stdout",
     "output_type": "stream",
     "text": [
      "Counter({'a': 3, 'g': 2, 'b': 1})\n",
      "Counter({'a': 3, 'g': 2, 'b': 1})\n",
      "Counter({'a': 3, 'g': 2, 'b': 1})\n"
     ]
    }
   ],
   "source": [
    "import collections\n",
    "\n",
    "print(collections.Counter(['a', 'b', 'g', 'g', 'a', 'a']))\n",
    "print(collections.Counter({'a':3, 'g':2, 'b':1}))\n",
    "print(collections.Counter(a=3, g=2, b=1))"
   ]
  },
  {
   "cell_type": "code",
   "execution_count": 3,
   "metadata": {},
   "outputs": [
    {
     "name": "stdout",
     "output_type": "stream",
     "text": [
      "Initial:  Counter()\n",
      "Counter now:  Counter({'r': 1, 't': 1, 'e': 1, 'y': 1, 'u': 1, 'i': 1})\n",
      "After update:  Counter({'t': 5, 'i': 3, 'r': 1, 'e': 1, 'y': 1, 'u': 1})\n"
     ]
    }
   ],
   "source": [
    "# Initialize empty counter container and populate with update()\n",
    "\n",
    "cnt = collections.Counter()\n",
    "print('Initial: ', cnt)\n",
    "\n",
    "cnt.update('rteyui')\n",
    "print('Counter now: ', cnt)\n",
    "\n",
    "cnt.update({'t':4, 'i':2})\n",
    "print('After update: ', cnt)"
   ]
  },
  {
   "cell_type": "code",
   "execution_count": null,
   "metadata": {},
   "outputs": [],
   "source": []
  }
 ],
 "metadata": {
  "kernelspec": {
   "display_name": "Python 3",
   "language": "python",
   "name": "python3"
  },
  "language_info": {
   "codemirror_mode": {
    "name": "ipython",
    "version": 3
   },
   "file_extension": ".py",
   "mimetype": "text/x-python",
   "name": "python",
   "nbconvert_exporter": "python",
   "pygments_lexer": "ipython3",
   "version": "3.6.2"
  }
 },
 "nbformat": 4,
 "nbformat_minor": 2
}
