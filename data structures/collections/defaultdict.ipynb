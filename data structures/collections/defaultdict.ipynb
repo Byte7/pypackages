{
 "cells": [
  {
   "cell_type": "markdown",
   "metadata": {},
   "source": [
    "## defaultdict - missing keys return default values"
   ]
  },
  {
   "cell_type": "code",
   "execution_count": 1,
   "metadata": {},
   "outputs": [],
   "source": [
    "import collections\n",
    "\n",
    "def make_default():\n",
    "    return \"this is the set default value\"\n",
    "\n",
    "\n",
    "ddict = collections.defaultdict(make_default, first = 'first member')"
   ]
  },
  {
   "cell_type": "code",
   "execution_count": 2,
   "metadata": {},
   "outputs": [
    {
     "name": "stdout",
     "output_type": "stream",
     "text": [
      "ddict:  defaultdict(<function make_default at 0x000001FD829B6D90>, {'first': 'first member'})\n",
      "first:  first member\n",
      "second:  this is the set default value\n"
     ]
    }
   ],
   "source": [
    "print('ddict: ',ddict)\n",
    "print('first: ',ddict['first'])\n",
    "print('second: ',ddict['second'])"
   ]
  },
  {
   "cell_type": "code",
   "execution_count": 3,
   "metadata": {},
   "outputs": [
    {
     "name": "stdout",
     "output_type": "stream",
     "text": [
      "Fetch another value not in dict:  this is the set default value\n",
      "\n",
      "ddict after all above operations:\n",
      "\n",
      "defaultdict(<function make_default at 0x000001FD829B6D90>,\n",
      "            {'another': 'this is the set default value',\n",
      "             'first': 'first member',\n",
      "             'second': 'this is the set default value'})\n"
     ]
    }
   ],
   "source": [
    "# another example\n",
    "\n",
    "from pprint import pprint\n",
    "\n",
    "print('Fetch another value not in dict: ', ddict['another'])\n",
    "print()\n",
    "print('ddict after all above operations:\\n')\n",
    "pprint(ddict)"
   ]
  }
 ],
 "metadata": {
  "kernelspec": {
   "display_name": "Python 3",
   "language": "python",
   "name": "python3"
  },
  "language_info": {
   "codemirror_mode": {
    "name": "ipython",
    "version": 3
   },
   "file_extension": ".py",
   "mimetype": "text/x-python",
   "name": "python",
   "nbconvert_exporter": "python",
   "pygments_lexer": "ipython3",
   "version": "3.6.2"
  }
 },
 "nbformat": 4,
 "nbformat_minor": 2
}
