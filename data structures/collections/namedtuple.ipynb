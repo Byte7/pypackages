{
 "cells": [
  {
   "cell_type": "code",
   "execution_count": 3,
   "metadata": {},
   "outputs": [
    {
     "name": "stdout",
     "output_type": "stream",
     "text": [
      "('tom', '50', 'biker')\n",
      "\n",
      "By index:  jerry\n",
      "\n",
      "tom is 50 years of age.\n",
      "jerry is 25 years of age.\n"
     ]
    }
   ],
   "source": [
    "# Normal way of defining and using tuples\n",
    "\n",
    "first = ('tom', '50', 'biker')\n",
    "second = ('jerry', '25', 'doctor')\n",
    "\n",
    "print(first)\n",
    "print()\n",
    "print('By index: ', second[0])\n",
    "print()\n",
    "for i in [first, second]:\n",
    "    print('{} is {} years of age.'.format(*i))"
   ]
  },
  {
   "cell_type": "code",
   "execution_count": 5,
   "metadata": {},
   "outputs": [
    {
     "name": "stdout",
     "output_type": "stream",
     "text": [
      "Person(name='tom', age='50', occ='biker')\n",
      "\n",
      "By index:  jerry\n",
      "\n",
      "tom is 50 years of age\n",
      "jerry is 25 years of age\n"
     ]
    }
   ],
   "source": [
    "import collections\n",
    "\n",
    "Person = collections.namedtuple('Person', 'name age occ')\n",
    "\n",
    "tom = Person(name='tom', age='50', occ='biker' shay evans)\n",
    "jerry = Person(name='jerry', age='25', occ='doctor')\n",
    "\n",
    "print(tom)\n",
    "print()\n",
    "print('By index: ', jerry.name)\n",
    "print()\n",
    "for i in [tom, jerry]:\n",
    "    print('{} is {} years of age'.format(*i))"
   ]
  },
  {
   "cell_type": "code",
   "execution_count": null,
   "metadata": {},
   "outputs": [],
   "source": []
  }
 ],
 "metadata": {
  "kernelspec": {
   "display_name": "Python 3",
   "language": "python",
   "name": "python3"
  },
  "language_info": {
   "codemirror_mode": {
    "name": "ipython",
    "version": 3
   },
   "file_extension": ".py",
   "mimetype": "text/x-python",
   "name": "python",
   "nbconvert_exporter": "python",
   "pygments_lexer": "ipython3",
   "version": "3.6.2"
  }
 },
 "nbformat": 4,
 "nbformat_minor": 2
}
