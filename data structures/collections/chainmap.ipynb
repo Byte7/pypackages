{
 "cells": [
  {
   "cell_type": "markdown",
   "metadata": {},
   "source": [
    "## Chainmap - to search through multiple dicts"
   ]
  },
  {
   "cell_type": "code",
   "execution_count": 1,
   "metadata": {},
   "outputs": [],
   "source": [
    "a = {'a': 'A', 'c': 'C'}\n",
    "b = {'b': 'B', 'd': 'D'}"
   ]
  },
  {
   "cell_type": "code",
   "execution_count": 2,
   "metadata": {},
   "outputs": [
    {
     "name": "stdout",
     "output_type": "stream",
     "text": [
      "a = A\n",
      "c = C\n",
      "\n",
      "Keys: ['c', 'a', 'd', 'b']\n",
      "Values: ['C', 'A', 'D', 'B']\n"
     ]
    }
   ],
   "source": [
    "# Accessing\n",
    "\n",
    "import collections\n",
    "\n",
    "dic = collections.ChainMap(a, b)\n",
    "\n",
    "print('a = {}'.format(dic['a']))\n",
    "print('c = {}'.format(dic['c']))\n",
    "print()\n",
    "\n",
    "print('Keys: {}'.format(list(dic.keys())))\n",
    "print('Values: {}'.format(list(dic.values())))"
   ]
  },
  {
   "cell_type": "code",
   "execution_count": 3,
   "metadata": {},
   "outputs": [
    {
     "name": "stdout",
     "output_type": "stream",
     "text": [
      "{'a': 'A', 'c': 'C', 'b': 'B', 'd': 'D'}\n"
     ]
    }
   ],
   "source": [
    "# A neat trick using unpacking operator introduced in python 3.5\n",
    "\n",
    "z = {**a, **b}\n",
    "print(z)"
   ]
  },
  {
   "cell_type": "code",
   "execution_count": 4,
   "metadata": {},
   "outputs": [
    {
     "name": "stdout",
     "output_type": "stream",
     "text": [
      "[{'a': 'A', 'c': 'C'}, {'b': 'B', 'd': 'D'}]\n",
      "c = C\n",
      "\n",
      "[{'b': 'B', 'd': 'D'}, {'a': 'A', 'c': 'C'}]\n",
      "c = C\n"
     ]
    }
   ],
   "source": [
    "# Reordering\n",
    "\n",
    "print(dic.maps)\n",
    "print('c = {}\\n'.format(dic['c']))\n",
    "\n",
    "dic.maps = list((reversed(dic.maps)))\n",
    "print(dic.maps)\n",
    "print('c = {}'.format(dic['c']))"
   ]
  },
  {
   "cell_type": "code",
   "execution_count": null,
   "metadata": {},
   "outputs": [],
   "source": []
  }
 ],
 "metadata": {
  "kernelspec": {
   "display_name": "Python 3",
   "language": "python",
   "name": "python3"
  },
  "language_info": {
   "codemirror_mode": {
    "name": "ipython",
    "version": 3
   },
   "file_extension": ".py",
   "mimetype": "text/x-python",
   "name": "python",
   "nbconvert_exporter": "python",
   "pygments_lexer": "ipython3",
   "version": "3.6.2"
  }
 },
 "nbformat": 4,
 "nbformat_minor": 2
}
