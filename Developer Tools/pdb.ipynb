{
 "cells": [
  {
   "cell_type": "markdown",
   "metadata": {},
   "source": [
    "## Python Debugger\n",
    "\n",
    "The module `pdb` defines an interactive source code debugger for Python programs.   \n",
    "It supports setting (conditional) breakpoints and single stepping at the source line level, inspection of stack frames, source code listing, and evaluation of arbitrary Python code in the context of any stack frame.   \n",
    "It also supports post-mortem debugging and can be called under program control."
   ]
  },
  {
   "cell_type": "code",
   "execution_count": 1,
   "metadata": {},
   "outputs": [],
   "source": [
    "import pdb\n",
    "import fractions # import your module here"
   ]
  },
  {
   "cell_type": "code",
   "execution_count": 2,
   "metadata": {},
   "outputs": [
    {
     "name": "stdout",
     "output_type": "stream",
     "text": [
      "> <string>(1)<module>()\n",
      "(Pdb) list\n",
      "[EOF]\n",
      "(Pdb) step\n",
      "--Call--\n",
      "> c:\\users\\admin\\anaconda2\\lib\\fractions.py(68)__new__()\n",
      "-> def __new__(cls, numerator=0, denominator=None):\n",
      "(Pdb) step\n",
      "> c:\\users\\admin\\anaconda2\\lib\\fractions.py(99)__new__()\n",
      "-> self = super(Fraction, cls).__new__(cls)\n",
      "(Pdb) step\n",
      "> c:\\users\\admin\\anaconda2\\lib\\fractions.py(101)__new__()\n",
      "-> if denominator is None:\n",
      "(Pdb) next\n",
      "> c:\\users\\admin\\anaconda2\\lib\\fractions.py(102)__new__()\n",
      "-> if isinstance(numerator, Rational):\n",
      "(Pdb) next\n",
      "> c:\\users\\admin\\anaconda2\\lib\\fractions.py(103)__new__()\n",
      "-> self._numerator = numerator.numerator\n",
      "(Pdb) continue\n"
     ]
    }
   ],
   "source": [
    "# run program under debugger control\n",
    "pdb.run('fractions.Fraction()')"
   ]
  },
  {
   "cell_type": "markdown",
   "metadata": {},
   "source": [
    "### pdb.set_trace(*, header=None)  \n",
    "\n",
    "Enter the debugger at the calling stack frame. This is useful to hard-code a breakpoint at a given point in a program, even if the code is not otherwise being debugged (e.g. when an assertion fails)."
   ]
  },
  {
   "cell_type": "code",
   "execution_count": 3,
   "metadata": {},
   "outputs": [
    {
     "name": "stdout",
     "output_type": "stream",
     "text": [
      "--Call--\n",
      "> c:\\users\\admin\\anaconda2\\lib\\site-packages\\ipython\\core\\displayhook.py(236)__call__()\n",
      "-> def __call__(self, result=None):\n",
      "(Pdb) step\n",
      "> c:\\users\\admin\\anaconda2\\lib\\site-packages\\ipython\\core\\displayhook.py(242)__call__()\n",
      "-> self.check_for_underscore()\n",
      "(Pdb) step\n",
      "--Call--\n",
      "> c:\\users\\admin\\anaconda2\\lib\\site-packages\\ipython\\core\\displayhook.py(72)check_for_underscore()\n",
      "-> def check_for_underscore(self):\n",
      "(Pdb) list\n",
      " 67  \t    #-------------------------------------------------------------------------\n",
      " 68  \t    # Methods used in __call__. Override these methods to modify the behavior\n",
      " 69  \t    # of the displayhook.\n",
      " 70  \t    #-------------------------------------------------------------------------\n",
      " 71  \t\n",
      " 72  ->\t    def check_for_underscore(self):\n",
      " 73  \t        \"\"\"Check if the user has set the '_' variable by hand.\"\"\"\n",
      " 74  \t        # If something injected a '_' variable in __builtin__, delete\n",
      " 75  \t        # ipython's automatic one so we don't clobber that.  gettext() in\n",
      " 76  \t        # particular uses _, so we need to stay away from it.\n",
      " 77  \t        if '_' in builtin_mod.__dict__:\n",
      "(Pdb) continue\n"
     ]
    }
   ],
   "source": [
    "pdb.set_trace()"
   ]
  },
  {
   "cell_type": "code",
   "execution_count": null,
   "metadata": {},
   "outputs": [],
   "source": []
  }
 ],
 "metadata": {
  "kernelspec": {
   "display_name": "Python 2",
   "language": "python",
   "name": "python2"
  },
  "language_info": {
   "codemirror_mode": {
    "name": "ipython",
    "version": 2
   },
   "file_extension": ".py",
   "mimetype": "text/x-python",
   "name": "python",
   "nbconvert_exporter": "python",
   "pygments_lexer": "ipython2",
   "version": "2.7.13"
  }
 },
 "nbformat": 4,
 "nbformat_minor": 2
}
