{
 "cells": [
  {
   "cell_type": "markdown",
   "metadata": {},
   "source": [
    "Operator jupyter notebook\n",
    "\n",
    "Python has predefined mathematical, logical, relational, bitwise etc operations and functions under the operator module."
   ]
  },
  {
   "cell_type": "code",
   "execution_count": 1,
   "metadata": {
    "collapsed": true
   },
   "outputs": [],
   "source": [
    "import operator as op"
   ]
  },
  {
   "cell_type": "code",
   "execution_count": 2,
   "metadata": {
    "collapsed": true
   },
   "outputs": [],
   "source": [
    "a = 14\n",
    "b = 8"
   ]
  },
  {
   "cell_type": "code",
   "execution_count": 3,
   "metadata": {
    "collapsed": true
   },
   "outputs": [],
   "source": [
    "#COMPARISON FUNCTIONS"
   ]
  },
  {
   "cell_type": "code",
   "execution_count": 4,
   "metadata": {
    "collapsed": false
   },
   "outputs": [
    {
     "name": "stdout",
     "output_type": "stream",
     "text": [
      "False\n",
      "True\n"
     ]
    }
   ],
   "source": [
    "#a<b\n",
    "print(op.lt(a,b))\n",
    "#a>b\n",
    "print(op.gt(a,b))"
   ]
  },
  {
   "cell_type": "code",
   "execution_count": 5,
   "metadata": {
    "collapsed": false
   },
   "outputs": [
    {
     "name": "stdout",
     "output_type": "stream",
     "text": [
      "True\n",
      "False\n"
     ]
    }
   ],
   "source": [
    "a = 8\n",
    "b = 8\n",
    "#a==b\n",
    "print(op.eq(a,b))\n",
    "#a!=b\n",
    "print(op.ne(a,b))"
   ]
  },
  {
   "cell_type": "code",
   "execution_count": 6,
   "metadata": {
    "collapsed": false
   },
   "outputs": [
    {
     "name": "stdout",
     "output_type": "stream",
     "text": [
      "True\n",
      "True\n"
     ]
    }
   ],
   "source": [
    "#a<=b\n",
    "print(op.le(3,4))\n",
    "#a>=b\n",
    "print(op.ge(4,4))"
   ]
  },
  {
   "cell_type": "code",
   "execution_count": 7,
   "metadata": {
    "collapsed": true
   },
   "outputs": [],
   "source": [
    "#MATHEMATICAL FUNCTIONS"
   ]
  },
  {
   "cell_type": "code",
   "execution_count": 8,
   "metadata": {
    "collapsed": false
   },
   "outputs": [
    {
     "name": "stdout",
     "output_type": "stream",
     "text": [
      "16\n",
      "0\n",
      "64\n"
     ]
    }
   ],
   "source": [
    "#a+b\n",
    "print(op.add(a,b))\n",
    "#a-b\n",
    "print(op.sub(a,b))\n",
    "#a*b\n",
    "print(op.mul(a,b))"
   ]
  },
  {
   "cell_type": "code",
   "execution_count": 9,
   "metadata": {
    "collapsed": false
   },
   "outputs": [
    {
     "name": "stdout",
     "output_type": "stream",
     "text": [
      "5.0\n",
      "2\n",
      "8\n",
      "1\n"
     ]
    }
   ],
   "source": [
    "#a/b\n",
    "print(op.truediv(15,3))\n",
    "#a//b\n",
    "print(op.floordiv(12,5))\n",
    "#a^b\n",
    "print(op.pow(2,3))\n",
    "#a%b\n",
    "print(op.mod(16,5))"
   ]
  },
  {
   "cell_type": "code",
   "execution_count": 10,
   "metadata": {
    "collapsed": false
   },
   "outputs": [],
   "source": [
    "#LOGICAL AND BITWISE FUNCTIONS"
   ]
  },
  {
   "cell_type": "code",
   "execution_count": 11,
   "metadata": {
    "collapsed": false
   },
   "outputs": [
    {
     "name": "stdout",
     "output_type": "stream",
     "text": [
      "False\n",
      "True\n",
      "True\n",
      "False\n",
      "False\n"
     ]
    }
   ],
   "source": [
    "#not a\n",
    "print(op.not_(a))\n",
    "#a is b i.e. states equality\n",
    "print(op.is_(a,b))\n",
    "print(op.is_(\"abc\",\"abc\"))\n",
    "print(op.is_(\"cat\",\"dog\"))\n",
    "#a is not b\n",
    "print(op.is_not(a,b))"
   ]
  },
  {
   "cell_type": "code",
   "execution_count": 12,
   "metadata": {
    "collapsed": false
   },
   "outputs": [
    {
     "name": "stdout",
     "output_type": "stream",
     "text": [
      "True\n",
      "False\n"
     ]
    }
   ],
   "source": [
    "#bool(a)\n",
    "print(op.truth(a))\n",
    "#since a-b results in 0\n",
    "print(op.truth(a-b))"
   ]
  },
  {
   "cell_type": "code",
   "execution_count": 13,
   "metadata": {
    "collapsed": false
   },
   "outputs": [
    {
     "name": "stdout",
     "output_type": "stream",
     "text": [
      "10\n",
      "-9\n"
     ]
    }
   ],
   "source": [
    "#returns absolute value\n",
    "print(op.abs(a-18))\n",
    "#invert a, ~a\n",
    "print(op.inv(a))"
   ]
  },
  {
   "cell_type": "code",
   "execution_count": 14,
   "metadata": {
    "collapsed": false
   },
   "outputs": [
    {
     "name": "stdout",
     "output_type": "stream",
     "text": [
      "0\n",
      "4\n",
      "0\n",
      "7\n"
     ]
    }
   ],
   "source": [
    "#bitwise AND\n",
    "print(op.and_(3,4))\n",
    "print(op.and_(4,4))\n",
    "#bitwise XOR, a^b\n",
    "print(op.xor(a,b))\n",
    "#bitwise OR\n",
    "print(op.or_(3,4))"
   ]
  },
  {
   "cell_type": "code",
   "execution_count": 15,
   "metadata": {
    "collapsed": false
   },
   "outputs": [
    {
     "name": "stdout",
     "output_type": "stream",
     "text": [
      "16\n",
      "4\n"
     ]
    }
   ],
   "source": [
    "#shift a to left by b bits\n",
    "print(op.lshift(8,1))\n",
    "#shift a to right by b bits\n",
    "print(op.rshift(8,1))"
   ]
  },
  {
   "cell_type": "code",
   "execution_count": 16,
   "metadata": {
    "collapsed": false
   },
   "outputs": [
    {
     "name": "stdout",
     "output_type": "stream",
     "text": [
      "-8\n",
      "8\n"
     ]
    }
   ],
   "source": [
    "# -a\n",
    "print(op.neg(a))\n",
    "# +a\n",
    "print(op.pos(a))"
   ]
  },
  {
   "cell_type": "code",
   "execution_count": 17,
   "metadata": {
    "collapsed": true
   },
   "outputs": [],
   "source": [
    "#OPERATIONS FOR SEQUENCES AND MAPPINGS"
   ]
  },
  {
   "cell_type": "code",
   "execution_count": 18,
   "metadata": {
    "collapsed": false
   },
   "outputs": [
    {
     "name": "stdout",
     "output_type": "stream",
     "text": [
      "cat dog\n",
      "3\n",
      "1\n"
     ]
    }
   ],
   "source": [
    "#consider functions as op.functions(a,b)\n",
    "#returns concatenated a+b\n",
    "print(op.concat(\"cat\", \" dog\"))\n",
    "#return occurences of b in a\n",
    "print(op.countOf(\"Tony loves dogs\",\"o\"))\n",
    "#return index of first occurence of b in a\n",
    "print(op.indexOf(\"Tony loves dogs\",\"o\"))"
   ]
  },
  {
   "cell_type": "code",
   "execution_count": 19,
   "metadata": {
    "collapsed": false
   },
   "outputs": [
    {
     "name": "stdout",
     "output_type": "stream",
     "text": [
      "o\n",
      "[1, 2, 4]\n",
      "[1, 2, 3]\n"
     ]
    }
   ],
   "source": [
    "#get value of a[b]\n",
    "myString = \"Mino loves cats\"\n",
    "print(op.getitem(myString,3))\n",
    "#delete value of a[b]\n",
    "myList = [1,2,3,4]\n",
    "op.delitem(myList,2)\n",
    "print(myList)\n",
    "#set a[b] as c i.e. set value at index b in a as c\n",
    "op.setitem(myList,2,3)\n",
    "print(myList)"
   ]
  },
  {
   "cell_type": "code",
   "execution_count": 20,
   "metadata": {
    "collapsed": false
   },
   "outputs": [
    {
     "name": "stdout",
     "output_type": "stream",
     "text": [
      "[1, 2, 3, 8, 10, 12, 7, 8]\n",
      "[8, 10, 12]\n",
      "[1, 2, 3, 7, 8]\n"
     ]
    }
   ],
   "source": [
    "#set a[b:c]=d, b inclusive and c exclusive i.e replace sliced [b,c) with [d]\n",
    "myList = [1,2,3,4,5,6,7,8]\n",
    "op.setslice(myList,3,6,[8,10,12])\n",
    "print(myList)\n",
    "#return sliced [b,c)\n",
    "print(op.getslice(myList,3,6))\n",
    "#delete a[b:c]\n",
    "op.delslice(myList,3,6)\n",
    "print(myList)"
   ]
  },
  {
   "cell_type": "markdown",
   "metadata": {},
   "source": [
    "We have sorted() inbuilt function to sort any iterable. The key-value patterns are very common, so Python provides \n",
    "functions to make accessor functions easier and faster. The operator module has operator.itemgetter(), operator.attrgetter()"
   ]
  },
  {
   "cell_type": "code",
   "execution_count": 21,
   "metadata": {
    "collapsed": false
   },
   "outputs": [
    {
     "name": "stdout",
     "output_type": "stream",
     "text": [
      "[(4, 13), (2, 14), (5, 15), (1, 19), (3, 20)]\n",
      "[(3, 20), (1, 19), (5, 15), (2, 14), (4, 13)]\n"
     ]
    }
   ],
   "source": [
    "myDict={1: 19, 2: 14, 3: 20, 4: 13, 5: 15}\n",
    "#consider a student roll-number: marks dictionary. To sort according to marks i.e. by value\n",
    "s_myDict = sorted(myDict.items(), key=op.itemgetter(1))\n",
    "print(s_myDict)\n",
    "#descending order\n",
    "sd_myDict = sorted(myDict.items(), key=op.itemgetter(1), reverse=True)\n",
    "print(sd_myDict)"
   ]
  },
  {
   "cell_type": "code",
   "execution_count": null,
   "metadata": {
    "collapsed": true
   },
   "outputs": [],
   "source": []
  }
 ],
 "metadata": {
  "kernelspec": {
   "display_name": "Python 2",
   "language": "python",
   "name": "python2"
  },
  "language_info": {
   "codemirror_mode": {
    "name": "ipython",
    "version": 2
   },
   "file_extension": ".py",
   "mimetype": "text/x-python",
   "name": "python",
   "nbconvert_exporter": "python",
   "pygments_lexer": "ipython2",
   "version": "2.7.13"
  }
 },
 "nbformat": 4,
 "nbformat_minor": 2
}
