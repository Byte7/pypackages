{
 "cells": [
  {
   "cell_type": "code",
   "execution_count": 1,
   "metadata": {},
   "outputs": [],
   "source": [
    "# importing random module\n",
    "import random"
   ]
  },
  {
   "cell_type": "code",
   "execution_count": 2,
   "metadata": {},
   "outputs": [
    {
     "name": "stdout",
     "output_type": "stream",
     "text": [
      "0.22135598134045975\n"
     ]
    }
   ],
   "source": [
    "# this function generates random real numbers in the interval [0, 1)\n",
    "r = random.random()\n",
    "print(r)"
   ]
  },
  {
   "cell_type": "code",
   "execution_count": 3,
   "metadata": {},
   "outputs": [
    {
     "name": "stdout",
     "output_type": "stream",
     "text": [
      "1.820975679187513\n"
     ]
    }
   ],
   "source": [
    "# this function generates random real numbers in the interval [1, 10)\n",
    "r = random.uniform(1, 10)\n",
    "print(r)"
   ]
  },
  {
   "cell_type": "code",
   "execution_count": 4,
   "metadata": {},
   "outputs": [
    {
     "name": "stdout",
     "output_type": "stream",
     "text": [
      "2\n"
     ]
    }
   ],
   "source": [
    "# this function generates random integers in the interval [1, 6] just like a dice\n",
    "r = random.randint(1, 6)\n",
    "print(r)"
   ]
  },
  {
   "cell_type": "code",
   "execution_count": 5,
   "metadata": {},
   "outputs": [
    {
     "name": "stdout",
     "output_type": "stream",
     "text": [
      "Hola\n"
     ]
    }
   ],
   "source": [
    "# getting a random value from a list\n",
    "greetings = ['Hello', 'Hi', 'Hola', 'Hey', 'Hellow']\n",
    "r = random.choice(greetings)\n",
    "print(r)"
   ]
  },
  {
   "cell_type": "code",
   "execution_count": 6,
   "metadata": {},
   "outputs": [
    {
     "name": "stdout",
     "output_type": "stream",
     "text": [
      "['blue', 'pink', 'pink', 'pink', 'pink', 'blue', 'red', 'pink', 'blue', 'red']\n"
     ]
    }
   ],
   "source": [
    "# creates a list of 10 values randomly from colors and all the values are equally likely\n",
    "colors = ['red', 'blue', 'pink']\n",
    "r = random.choices(colors, k=10)\n",
    "print(r)"
   ]
  },
  {
   "cell_type": "code",
   "execution_count": 7,
   "metadata": {},
   "outputs": [
    {
     "name": "stdout",
     "output_type": "stream",
     "text": [
      "['pink', 'pink', 'red', 'blue', 'pink', 'blue', 'red', 'red', 'blue', 'red']\n"
     ]
    }
   ],
   "source": [
    "# creates a list of 10 values randomly from colors and the values \n",
    "# appear as per mentioned probability by the weights arguments\n",
    "colors = ['red', 'blue', 'pink']\n",
    "r = random.choices(colors, weights=[3, 3, 4], k=10)\n",
    "print(r)"
   ]
  },
  {
   "cell_type": "code",
   "execution_count": 8,
   "metadata": {},
   "outputs": [
    {
     "name": "stdout",
     "output_type": "stream",
     "text": [
      "[18, 44, 21, 37, 19, 2, 49, 32, 45, 20, 22, 14, 51, 46, 27, 39, 17, 11, 47, 13, 33, 29, 34, 10, 24, 41, 38, 36, 9, 12, 50, 15, 8, 3, 16, 25, 4, 26, 40, 42, 5, 6, 1, 35, 31, 7, 43, 30, 52, 48, 23, 28]\n"
     ]
    }
   ],
   "source": [
    "# generates a list of integers in the interval [1, 53)\n",
    "deck = list(range(1, 53)) \n",
    "# shuffles all the numbers just like a deck of cards\n",
    "random.shuffle(deck)\n",
    "print(deck)"
   ]
  },
  {
   "cell_type": "code",
   "execution_count": 9,
   "metadata": {},
   "outputs": [
    {
     "name": "stdout",
     "output_type": "stream",
     "text": [
      "[30, 28, 50, 40, 44, 20]\n"
     ]
    }
   ],
   "source": [
    "deck = range(1, 53)\n",
    "# getting 6 unique random values from the list specified\n",
    "hand = random.sample(deck, k=6)\n",
    "print(hand)"
   ]
  }
 ],
 "metadata": {
  "kernelspec": {
   "display_name": "Python 3",
   "language": "python",
   "name": "python3"
  },
  "language_info": {
   "codemirror_mode": {
    "name": "ipython",
    "version": 3
   },
   "file_extension": ".py",
   "mimetype": "text/x-python",
   "name": "python",
   "nbconvert_exporter": "python",
   "pygments_lexer": "ipython3",
   "version": "3.6.5"
  }
 },
 "nbformat": 4,
 "nbformat_minor": 2
}
