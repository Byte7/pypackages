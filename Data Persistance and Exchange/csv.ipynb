{
 "cells": [
  {
   "cell_type": "markdown",
   "metadata": {},
   "source": [
    "`csv` is a python module that implements classes to read and write data in *CSV* (Comma Separated Values) format. For more info, click <a href=https://docs.python.org/3/library/csv.html>here</href>"
   ]
  },
  {
   "cell_type": "markdown",
   "metadata": {},
   "source": [
    "`csv.reader(csvfile)` returns a reader object which will iterate over lines in the given `csvfile`.<br>\n",
    "Here is a simple example:"
   ]
  },
  {
   "cell_type": "code",
   "execution_count": 1,
   "metadata": {
    "collapsed": false
   },
   "outputs": [
    {
     "name": "stdout",
     "output_type": "stream",
     "text": [
      "['1', '42', '54', '46', '364', '645', '436']\n",
      "['1345', '436', '643', '364', '643', '643']\n",
      "['325', '123553', '534', '435', '34', '436']\n"
     ]
    }
   ],
   "source": [
    "import csv\n",
    "with open('testread.csv', newline='') as file:\n",
    "    reader = csv.reader(file)\n",
    "    for row in reader:\n",
    "        print(row)"
   ]
  },
  {
   "cell_type": "markdown",
   "metadata": {},
   "source": [
    "`csv.writer(csvfile)` returns a writer object that will converts the user’s data into delimited strings on the given file. <br> Here is an example:"
   ]
  },
  {
   "cell_type": "code",
   "execution_count": 2,
   "metadata": {
    "collapsed": true
   },
   "outputs": [],
   "source": [
    "import csv\n",
    "with open('testwrite.csv', 'w', newline='') as file:\n",
    "    spamwriter = csv.writer(file, delimiter=',')\n",
    "    spamwriter.writerow(['test'] * 5 + ['randomness'])\n",
    "    spamwriter.writerow(['unicorn', 'mushrooms', 'rainbows'])"
   ]
  }
 ],
 "metadata": {
  "anaconda-cloud": {},
  "kernelspec": {
   "display_name": "Python [Root]",
   "language": "python",
   "name": "Python [Root]"
  },
  "language_info": {
   "codemirror_mode": {
    "name": "ipython",
    "version": 3
   },
   "file_extension": ".py",
   "mimetype": "text/x-python",
   "name": "python",
   "nbconvert_exporter": "python",
   "pygments_lexer": "ipython3",
   "version": "3.5.2"
  }
 },
 "nbformat": 4,
 "nbformat_minor": 0
}
