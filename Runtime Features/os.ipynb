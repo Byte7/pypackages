{
  "cells": [
    {
      "metadata": {
        "collapsed": true
      },
      "cell_type": "markdown",
      "source": "## OS Module"
    },
    {
      "metadata": {},
      "cell_type": "markdown",
      "source": "OS module is one of the important module which is useful in directly interaction with the OS and the file system ie.directories and files.It provides various functions through which we can interact with underlying OS.To understand it in a better way let us consider few examples :"
    },
    {
      "metadata": {},
      "cell_type": "markdown",
      "source": "OS module is a python's builtin module.To use it like any other modules first we have to import it into our current file"
    },
    {
      "metadata": {
        "trusted": true
      },
      "cell_type": "code",
      "source": "import os  #importing the os module must be the first statement",
      "execution_count": 2,
      "outputs": []
    },
    {
      "metadata": {
        "trusted": true
      },
      "cell_type": "code",
      "source": "print(os.name)",
      "execution_count": 4,
      "outputs": [
        {
          "output_type": "stream",
          "text": "posix\n",
          "name": "stdout"
        }
      ]
    },
    {
      "metadata": {},
      "cell_type": "markdown",
      "source": "Depending on the name of the os module we get the output.It varies from system to system with different OS like windows ,linux etc."
    },
    {
      "metadata": {
        "trusted": true
      },
      "cell_type": "code",
      "source": "os.getcwd()",
      "execution_count": 6,
      "outputs": [
        {
          "output_type": "execute_result",
          "execution_count": 6,
          "data": {
            "text/plain": "'/home/nbuser/library'"
          },
          "metadata": {}
        }
      ]
    },
    {
      "metadata": {},
      "cell_type": "markdown",
      "source": "getcwd function is used to return the current working directory.For windows users you will o/p something like C:\\Users\\user_name\\..."
    },
    {
      "metadata": {
        "trusted": true
      },
      "cell_type": "code",
      "source": "os.path.abspath('.') # returns absolute path",
      "execution_count": 14,
      "outputs": [
        {
          "output_type": "execute_result",
          "execution_count": 14,
          "data": {
            "text/plain": "'/home/nbuser/library'"
          },
          "metadata": {}
        }
      ]
    },
    {
      "metadata": {
        "trusted": true
      },
      "cell_type": "code",
      "source": "os.listdir('.')  # list the directories and the files in the current directory",
      "execution_count": 16,
      "outputs": [
        {
          "output_type": "execute_result",
          "execution_count": 16,
          "data": {
            "text/plain": "['README.md',\n 'sample.ipynb',\n 'os_module.ipynb',\n 'fraction.ipynb',\n '.ipynb_checkpoints']"
          },
          "metadata": {}
        }
      ]
    },
    {
      "metadata": {},
      "cell_type": "markdown",
      "source": "### Environment Variables"
    },
    {
      "metadata": {
        "trusted": true
      },
      "cell_type": "code",
      "source": "os.environ   # Returns all the environment variables",
      "execution_count": 19,
      "outputs": [
        {
          "output_type": "execute_result",
          "execution_count": 19,
          "data": {
            "text/plain": "environ({'HOSTNAME': 'nbserver', 'SHELL': '/bin/bash', 'TERM': 'xterm-color', 'MSI_ENDPOINT': 'http://localhost:25198/nb/api/nbsvc/oauth2/token', 'http_proxy': 'http://webproxy:3128', 'USER': 'nbuser', 'LD_LIBRARY_PATH': '/usr/lib64/MRO-3.3.0/R-3.3.0/lib/R/lib:', 'SUDO_USER': 'root', 'SUDO_UID': '0', 'JPY_PARENT_PID': '40', 'USERNAME': 'nbuser', 'MAIL': '/var/mail/nbuser', 'PATH': '/home/nbuser/anaconda3_501/bin:/usr/local/bin:/usr/local/sbin:/usr/local/bin:/usr/sbin:/usr/bin:/sbin:/bin:/snap/bin', 'PWD': '/home/nbuser/library', 'R_LIBS': '/home/nbuser/R:/usr/local/lib/R/site-library:/usr/lib/R/site-library:/usr/lib/R/library', 'LANG': 'en_US.UTF-8', 'https_proxy': 'http://webproxy:3128', 'SUDO_COMMAND': '/bin/bash /.start.sh 25198 https://notebooks.azure.com nb 0013_ansprod1991nb 9ec3c43006f04c048377ac29d0ae0f4423ec872bcf8b4b7295dc958cf3c47049 e1160796-a49f-4f9c-8942-2b02900b024a ansprod1991nb VM', 'SHLVL': '2', 'HOME': '/home/nbuser', 'AZURE_NOTEBOOKS_VMVERSION': 'd9c2b5f38', 'no_proxy': 'localhost', 'PYTHONPATH': '/home/nbuser/library', 'LOGNAME': 'nbuser', 'SUDO_GID': '0', 'AZURE_NOTEBOOKS_HOST': 'https://notebooks.azure.com', '_': '/home/nbuser/anaconda3_501/bin/python', 'CLICOLOR': '1', 'PAGER': 'cat', 'GIT_PAGER': 'cat', 'MPLBACKEND': 'module://ipykernel.pylab.backend_inline'})"
          },
          "metadata": {}
        }
      ]
    },
    {
      "metadata": {
        "trusted": true
      },
      "cell_type": "code",
      "source": "os.getenv('HOME')  # to get the environment variable for a specific directory or the path ",
      "execution_count": 22,
      "outputs": [
        {
          "output_type": "execute_result",
          "execution_count": 22,
          "data": {
            "text/plain": "'/home/nbuser'"
          },
          "metadata": {}
        }
      ]
    },
    {
      "metadata": {},
      "cell_type": "markdown",
      "source": "### File Object System Manipulation "
    },
    {
      "metadata": {},
      "cell_type": "markdown",
      "source": "For working with files io we need to have one must thing i.e file descriptor of the file which we are going to manipulate"
    },
    {
      "metadata": {
        "trusted": true
      },
      "cell_type": "code",
      "source": "fd = \"GFG.txt\" \nf = open(fd, 'w') # opening file in write mode\nf.write(\"Python Rocks\") \nf.close() # closing the file\n\nf = open(fd, 'r') # opening file in read mode\nmessage = f.read() \nprint(message) ",
      "execution_count": 26,
      "outputs": [
        {
          "output_type": "stream",
          "text": "Python Rocks\n",
          "name": "stdout"
        }
      ]
    },
    {
      "metadata": {},
      "cell_type": "markdown",
      "source": "### For More Details Refer [Python OS Module Official Docs](https://docs.python.org/3/library/os.html)"
    }
  ],
  "metadata": {
    "kernelspec": {
      "name": "python36",
      "display_name": "Python 3.6",
      "language": "python"
    },
    "language_info": {
      "mimetype": "text/x-python",
      "nbconvert_exporter": "python",
      "name": "python",
      "pygments_lexer": "ipython3",
      "version": "3.6.6",
      "file_extension": ".py",
      "codemirror_mode": {
        "version": 3,
        "name": "ipython"
      }
    }
  },
  "nbformat": 4,
  "nbformat_minor": 2
}
